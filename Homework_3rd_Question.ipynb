{
 "cells": [
  {
   "cell_type": "code",
   "execution_count": 11,
   "metadata": {
    "collapsed": false
   },
   "outputs": [
    {
     "data": {
      "text/plain": [
       "<matplotlib.text.Text at 0x11b474cd0>"
      ]
     },
     "execution_count": 11,
     "metadata": {},
     "output_type": "execute_result"
    },
    {
     "data": {
      "image/png": "[encoded data removed]",
      "text/plain": [
       "<matplotlib.figure.Figure at 0x11b409990>"
      ]
     },
     "metadata": {},
     "output_type": "display_data"
    }
   ],
   "source": [
    "import pandas as pd\n",
    "import matplotlib.pyplot as plt\n",
    "import seaborn as sb\n",
    "import numpy as np\n",
    "from sklearn.cross_validation import StratifiedKFold\n",
    "from sklearn.cross_validation import cross_val_score\n",
    "from sklearn.tree import DecisionTreeClassifier\n",
    "from sklearn.grid_search import GridSearchCV\n",
    "%matplotlib inline\n",
    "\n",
    "twitter_data = pd.read_csv('Homework_3rd_Account_Decision_Tree.csv')\n",
    "#twitter_data.head()\n",
    "#twitter_data.describe()\n",
    "\n",
    "#twitter_data.dropna()\n",
    "#sb.pairplot(twitter_data.dropna(), hue='class')\n",
    "\n",
    "all_inputs = twitter_data[['test', 'speak about(to)/see you', 'blog']].values\n",
    "all_classes = twitter_data['class'].values\n",
    "\n",
    "decision_tree_classifier = DecisionTreeClassifier()\n",
    "\n",
    "parameter_grid = {'max_depth': [1,2],\n",
    "                  'max_features': [1,2,3]}\n",
    "\n",
    "cross_validation = StratifiedKFold(all_classes, n_folds=5)\n",
    "\n",
    "grid_search = GridSearchCV(decision_tree_classifier,\n",
    "                           param_grid=parameter_grid,\n",
    "                           cv=cross_validation)\n",
    "grid_search.fit(all_inputs, all_classes)\n",
    "\n",
    "\n",
    "grid_visualization = []\n",
    "\n",
    "for grid_pair in grid_search.grid_scores_:\n",
    "    grid_visualization.append(grid_pair.mean_validation_score)\n",
    "    \n",
    "grid_visualization = np.array(grid_visualization)\n",
    "grid_visualization.shape = (2, 3)\n",
    "sb.heatmap(grid_visualization, cmap='Blues')\n",
    "plt.xticks(np.arange(3) + 0.5, grid_search.param_grid['max_features'])\n",
    "plt.yticks(np.arange(2) + 0.5, grid_search.param_grid['max_depth'][::-1])\n",
    "plt.xlabel('max_features')\n",
    "plt.ylabel('max_depth')\n",
    "\n",
    "\n",
    "#本題接續第2題進行分析，首先將特定時間範圍內的所有tweet列印出來，包含其user name,text,及description欄位等資料，找尋20個感興趣的帳號後，\n",
    "#將使用帳號區分為“Engineer”,\"Author\",\"Speaker\"等三類（完全依照descriprion欄位資料來判定），並從text欄位資訊中萃取出“test”,\n",
    "#”speak about（to）/ see you“, 及“blog”等三類關鍵字，然後將各屬性統整在Homework_3rd_Account_Decision_Tree2.csv中（因為程序繁複\n",
    "#故無呈現在程試之中），可以發現如果在text中出現“test”關鍵字，其幾乎為Engineer;如果出現“speak about（to）/ see you”時，也有極高的機率\n",
    "#是Speaker，而剩下的幾乎為Author（其中text會有“blog”關鍵字出現），最後將結果呈現於heatmap圖之中，可得知愈多feature訊息符合或愈深度分析\n",
    "#時，命中class的機率愈高。"
   ]
  },
  {
   "cell_type": "code",
   "execution_count": null,
   "metadata": {
    "collapsed": true
   },
   "outputs": [],
   "source": []
  },
  {
   "cell_type": "code",
   "execution_count": null,
   "metadata": {
    "collapsed": true
   },
   "outputs": [],
   "source": []
  }
 ],
 "metadata": {
  "anaconda-cloud": {},
  "kernelspec": {
   "display_name": "Python [conda root]",
   "language": "python",
   "name": "conda-root-py"
  },
  "language_info": {
   "codemirror_mode": {
    "name": "ipython",
    "version": 2
   },
   "file_extension": ".py",
   "mimetype": "text/x-python",
   "name": "python",
   "nbconvert_exporter": "python",
   "pygments_lexer": "ipython2",
   "version": "2.7.12"
  }
 },
 "nbformat": 4,
 "nbformat_minor": 1
}
